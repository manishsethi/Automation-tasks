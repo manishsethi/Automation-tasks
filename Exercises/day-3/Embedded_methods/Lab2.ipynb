{
  "nbformat": 4,
  "nbformat_minor": 0,
  "metadata": {
    "colab": {
      "provenance": [],
      "authorship_tag": "ABX9TyOhR2VqFO9ip+n+Q60RzudD",
      "include_colab_link": true
    },
    "kernelspec": {
      "name": "python3",
      "display_name": "Python 3"
    },
    "language_info": {
      "name": "python"
    }
  },
  "cells": [
    {
      "cell_type": "markdown",
      "metadata": {
        "id": "view-in-github",
        "colab_type": "text"
      },
      "source": [
        "<a href=\"https://colab.research.google.com/github/manishsethi/Automation-tasks/blob/main/Exercises/day-3/Embedded_methods/Lab2.ipynb\" target=\"_parent\"><img src=\"https://colab.research.google.com/assets/colab-badge.svg\" alt=\"Open In Colab\"/></a>"
      ]
    },
    {
      "cell_type": "code",
      "execution_count": null,
      "metadata": {
        "id": "Je1rSo0GgiJ0"
      },
      "outputs": [],
      "source": [
        "# Lab Exercises: Embedded Feature‐Selection Methods\n",
        "# Use the Breast Cancer dataset (sklearn.datasets.load_breast_cancer) for all exercises. Split once into training and test sets:\n",
        "from sklearn.datasets import load_breast_cancer\n",
        "from sklearn.model_selection import train_test_split\n",
        "\n",
        "X, y = load_breast_cancer(return_X_y=True, as_frame=True)\n",
        "X_train, X_test, y_train, y_test = train_test_split(\n",
        "    X, y, test_size=0.3, random_state=42\n",
        ")"
      ]
    },
    {
      "cell_type": "markdown",
      "source": [
        "# Exercise 4: Tree-Based Importance\n",
        "- Fit RandomForestClassifier(n_estimators=100, random_state=0).\n",
        "\n",
        "- Use SelectFromModel to select the top 5 features by impurity importance.\n",
        "\n",
        "- Retrain and evaluate."
      ],
      "metadata": {
        "id": "rbDBckzBgvE9"
      }
    },
    {
      "cell_type": "code",
      "source": [
        "from sklearn.ensemble import RandomForestClassifier\n",
        "\n",
        "rf = RandomForestClassifier(n_estimators=100, random_state=0)\n",
        "rf.fit(X_train, y_train)\n",
        "\n",
        "sfm_rf = SelectFromModel(rf, prefit=True, max_features=5, threshold=-np.inf)\n",
        "feat_rf = X_train.columns[sfm_rf.get_support()]\n",
        "\n",
        "model = LogisticRegression(max_iter=5000).fit(X_train[feat_rf], y_train)\n",
        "print(\"RF features:\", list(feat_rf))\n",
        "print(\"Accuracy (RF):\", accuracy_score(y_test, model.predict(X_test[feat_rf])))"
      ],
      "metadata": {
        "id": "mJ9vGlC-gqTu"
      },
      "execution_count": null,
      "outputs": []
    },
    {
      "cell_type": "markdown",
      "source": [
        "# Exercise 5: Gradient-Boosting (XGBoost) Importance\n",
        "- Fit XGBClassifier(n_estimators=100, use_label_encoder=False, - eval_metric='logloss', random_state=0).\n",
        "\n",
        "- Use SelectFromModel to pick the top 5 features.\n",
        "\n",
        "- Retrain and evaluate."
      ],
      "metadata": {
        "id": "LrQIwB2Kg4BT"
      }
    },
    {
      "cell_type": "code",
      "source": [
        "import xgboost as xgb\n",
        "\n",
        "xgb_clf = xgb.XGBClassifier(\n",
        "    n_estimators=100, use_label_encoder=False, eval_metric='logloss', random_state=0\n",
        ")\n",
        "xgb_clf.fit(X_train, y_train)\n",
        "\n",
        "sfm_xgb = SelectFromModel(xgb_clf, prefit=True, max_features=5, threshold=-np.inf)\n",
        "feat_xgb = X_train.columns[sfm_xgb.get_support()]\n",
        "\n",
        "model = LogisticRegression(max_iter=5000).fit(X_train[feat_xgb], y_train)\n",
        "print(\"XGB features:\", list(feat_xgb))\n",
        "print(\"Accuracy (XGB):\", accuracy_score(y_test, model.predict(X_test[feat_xgb])))\n"
      ],
      "metadata": {
        "id": "UtHlhNfgg0_N"
      },
      "execution_count": null,
      "outputs": []
    },
    {
      "cell_type": "markdown",
      "source": [
        "# Exercise 6: Stability Selection (Randomized Lasso)\n",
        "- Fit RandomizedLasso(alpha=0.025, random_state=0).\n",
        "\n",
        "- Select the top 5 features with highest selection frequency.\n",
        "\n",
        "- Retrain and evaluate."
      ],
      "metadata": {
        "id": "q9Ihd18WhEoF"
      }
    },
    {
      "cell_type": "code",
      "source": [
        "from sklearn.linear_model import RandomizedLasso\n",
        "\n",
        "rl = RandomizedLasso(alpha=0.025, random_state=0)\n",
        "rl.fit(X_train, y_train)\n",
        "\n",
        "feat_rl = X_train.columns[rl.get_support()][:5]\n",
        "model = LogisticRegression(max_iter=5000).fit(X_train[feat_rl], y_train)\n",
        "print(\"Stability features:\", list(feat_rl))\n",
        "print(\"Accuracy (Stability):\", accuracy_score(y_test, model.predict(X_test[feat_rl])))\n"
      ],
      "metadata": {
        "id": "2CfDVtaZg-2R"
      },
      "execution_count": null,
      "outputs": []
    },
    {
      "cell_type": "markdown",
      "source": [
        "# Exercise 7: Embedded Specialized Model (Decision Tree)\n",
        "- Fit DecisionTreeClassifier(max_depth=3, random_state=0).\n",
        "\n",
        "- Use its feature_importances_ to select top 5.\n",
        "\n",
        "- Retrain logistic model and evaluate."
      ],
      "metadata": {
        "id": "Yfcf07osiPGw"
      }
    },
    {
      "cell_type": "code",
      "source": [
        "from sklearn.tree import DecisionTreeClassifier\n",
        "\n",
        "dt = DecisionTreeClassifier(max_depth=3, random_state=0)\n",
        "dt.fit(X_train, y_train)\n",
        "\n",
        "import numpy as np\n",
        "idx_dt = np.argsort(dt.feature_importances_)[-5:]\n",
        "feat_dt = X_train.columns[idx_dt]\n",
        "\n",
        "model = LogisticRegression(max_iter=5000).fit(X_train[feat_dt], y_train)\n",
        "print(\"DT features:\", list(feat_dt))\n",
        "print(\"Accuracy (DT):\", accuracy_score(y_test, model.predict(X_test[feat_dt])))\n"
      ],
      "metadata": {
        "id": "9vTePYw4iWql"
      },
      "execution_count": null,
      "outputs": []
    }
  ]
}