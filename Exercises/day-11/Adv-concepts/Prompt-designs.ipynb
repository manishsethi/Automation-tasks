{
  "cells": [
    {
      "cell_type": "markdown",
      "metadata": {
        "id": "view-in-github",
        "colab_type": "text"
      },
      "source": [
        "<a href=\"https://colab.research.google.com/github/manishsethi/Automation-tasks/blob/main/Exercises/day-11/Adv-concepts/Prompt-designs.ipynb\" target=\"_parent\"><img src=\"https://colab.research.google.com/assets/colab-badge.svg\" alt=\"Open In Colab\"/></a>"
      ]
    },
    {
      "cell_type": "markdown",
      "source": [
        "# 📓 Lab: Advanced Prompt Design Techniques in AI Conversations"
      ],
      "metadata": {
        "id": "hFnkDgKDTUgk"
      }
    },
    {
      "cell_type": "code",
      "source": [
        "# Setup\n",
        "# Install OpenAI SDK\n",
        "!pip install openai -q\n",
        "from google.colab import userdata\n",
        "import os\n",
        "\n",
        "openai_api_key = userdata.get(\"OPENAI_API_KEY\")\n",
        "if openai_api_key:\n",
        "    os.environ[\"OPENAI_API_KEY\"] = openai_api_key\n",
        "    print(\"✅ OpenAI API key loaded safely\")\n",
        "else:\n",
        "    print(\"❌ OpenAI API key not found. Please set it using Colab Secrets.\")"
      ],
      "metadata": {
        "id": "TeI221gvStSY",
        "outputId": "974fd4b4-e523-41ff-eccf-ecb04583b10d",
        "colab": {
          "base_uri": "https://localhost:8080/"
        }
      },
      "execution_count": 23,
      "outputs": [
        {
          "output_type": "stream",
          "name": "stdout",
          "text": [
            "✅ OpenAI API key loaded safely\n"
          ]
        }
      ]
    },
    {
      "cell_type": "code",
      "source": [
        "from openai import OpenAI\n",
        "client = OpenAI(api_key=os.environ[\"OPENAI_API_KEY\"])  # Replace with your API key\n",
        "\n",
        "def ask_gpt(prompt, temperature=0.7, max_tokens=500):\n",
        "    \"\"\"Send a prompt to GPT-4o-mini and return the output\"\"\"\n",
        "    response = client.chat.completions.create(\n",
        "        model=\"gpt-4o-mini\",\n",
        "        messages=[{\"role\": \"user\", \"content\": prompt}],\n",
        "        temperature=temperature,\n",
        "        max_tokens=max_tokens\n",
        "    )\n",
        "    return response.choices[0].message.content"
      ],
      "metadata": {
        "id": "tum27-jCRCHH"
      },
      "execution_count": 24,
      "outputs": []
    },
    {
      "cell_type": "markdown",
      "source": [
        "## **1️⃣ Interview Pattern Prompting**\n",
        "\n",
        "**Goal:** Simulate an interview by prompting the model to ask and answer a series of questions on a topic. Helps in extracting detailed and structured info."
      ],
      "metadata": {
        "id": "3CPaNFrYRGxO"
      }
    },
    {
      "cell_type": "code",
      "source": [
        "base_prompt = \"\"\"\n",
        "Simulate an interview between a reporter and an AI expert about the impact of AI on education.\n",
        "Format it as a Q&A conversation with the reporter asking questions and the expert answering.\n",
        "Start with an introductory question.\n",
        "\"\"\"\n",
        "\n",
        "print(ask_gpt(base_prompt, temperature=0.6))"
      ],
      "metadata": {
        "colab": {
          "base_uri": "https://localhost:8080/"
        },
        "id": "2vMB3TKnRHNn",
        "outputId": "b78f18ff-65e3-4fdd-8492-fc041b11d4dd"
      },
      "execution_count": 25,
      "outputs": [
        {
          "output_type": "stream",
          "name": "stdout",
          "text": [
            "**Reporter:** Thank you for joining us today. To kick things off, can you explain how you see AI impacting education in both the classroom and online learning environments?\n",
            "\n",
            "**AI Expert:** Absolutely, and thank you for having me. AI is transforming education in various ways, from personalized learning experiences to administrative efficiency. In the classroom, AI tools can analyze student performance in real-time, enabling teachers to tailor their instruction to meet individual needs. For online learning, AI can enhance engagement through adaptive learning platforms that adjust content based on a learner's pace and understanding.\n",
            "\n",
            "**Reporter:** That sounds promising. However, some people express concern about the reliance on AI in education. What do you think are the potential risks?\n",
            "\n",
            "**AI Expert:** That's a valid concern. One major risk is the potential for bias in AI algorithms, which can lead to inequitable educational outcomes. If the data used to train these systems reflects existing societal biases, it could perpetuate inequalities rather than alleviate them. Additionally, over-reliance on AI may undermine critical thinking and interpersonal skills if students become too dependent on technology for answers.\n",
            "\n",
            "**Reporter:** How can educators and institutions mitigate these risks while still leveraging AI's benefits?\n",
            "\n",
            "**AI Expert:** Educators can mitigate risks by ensuring that AI tools are used as supplements to traditional teaching methods rather than replacements. Training for teachers on how to effectively integrate AI into their curricula is also essential. Furthermore, institutions should prioritize transparency in AI algorithms and actively work to identify and eliminate biases in the data used to inform these systems.\n",
            "\n",
            "**Reporter:** Speaking of the role of teachers, how do you see the relationship between AI and educators evolving in the future?\n",
            "\n",
            "**AI Expert:** I believe that AI will transform the role of educators rather than replace them. Teachers will become more like facilitators or coaches, guiding students through complex problem-solving rather than delivering rote knowledge. This shift can free up time for teachers to focus on mentoring and supporting students in critical thinking and collaboration, skills that are increasingly important in the modern workforce.\n",
            "\n",
            "**Reporter:** That's an interesting perspective. With AI becoming more integrated into education, do you think there will be a significant change in curriculum design?\n",
            "\n",
            "**AI Expert:** Absolutely. Curriculums will likely evolve to incorporate more technology and data literacy, as understanding AI will become essential for students. We may also see a greater emphasis on interdisciplinary approaches that combine subjects like mathematics, science, and ethics to prepare students for a world where AI plays a central role in decision-making.\n",
            "\n",
            "**Reporter:** Finally\n"
          ]
        }
      ]
    },
    {
      "cell_type": "markdown",
      "source": [
        "## **2️⃣ Tree-of-Thoughts Prompting**\n",
        "\n",
        "**Goal:** Explore multiple lines of reasoning or ideas branching from a prompt before converging on an answer."
      ],
      "metadata": {
        "id": "YB1JLDOURLet"
      }
    },
    {
      "cell_type": "code",
      "source": [
        "prompt = \"\"\"\n",
        "You want to plan a weekend trip. Using a tree-of-thoughts approach, list 3 possible destinations.\n",
        "For each destination, list 2 pros and 2 cons.\n",
        "Then choose the best destination and explain why.\n",
        "\"\"\"\n",
        "\n",
        "print(ask_gpt(prompt, temperature=0.7))"
      ],
      "metadata": {
        "colab": {
          "base_uri": "https://localhost:8080/"
        },
        "id": "O982EGKMRNB8",
        "outputId": "75383983-aab8-4b4e-d2a0-6ea0bfc9d807"
      },
      "execution_count": 26,
      "outputs": [
        {
          "output_type": "stream",
          "name": "stdout",
          "text": [
            "### Destination 1: Beach Resort\n",
            "\n",
            "**Pros:**\n",
            "1. Relaxing Atmosphere: The beach provides a calming environment, perfect for unwinding.\n",
            "2. Variety of Activities: Options for water sports, sunbathing, and beach games.\n",
            "\n",
            "**Cons:**\n",
            "1. Crowded: Popular beach resorts can be quite crowded, especially on weekends.\n",
            "2. Weather Dependent: Activities may be limited by poor weather conditions, such as rain or storms.\n",
            "\n",
            "---\n",
            "\n",
            "### Destination 2: Mountain Cabin\n",
            "\n",
            "**Pros:**\n",
            "1. Scenic Views: Mountains offer breathtaking landscapes and opportunities for photography.\n",
            "2. Outdoor Activities: Hiking, biking, and nature exploration are readily available.\n",
            "\n",
            "**Cons:**\n",
            "1. Accessibility: Mountain locations may require longer travel times and can be difficult to reach.\n",
            "2. Limited Amenities: Cabins may lack some modern conveniences, such as restaurants and shops.\n",
            "\n",
            "---\n",
            "\n",
            "### Destination 3: City Exploration\n",
            "\n",
            "**Pros:**\n",
            "1. Cultural Experiences: Cities often have museums, galleries, theaters, and diverse culinary options.\n",
            "2. Vibrant Nightlife: Opportunities for entertainment, dining, and socializing.\n",
            "\n",
            "**Cons:**\n",
            "1. Noise and Crowds: Urban environments can be noisy and bustling, which may be overwhelming for some.\n",
            "2. Higher Costs: Hotels, dining, and activities in cities can be more expensive than in quieter locations.\n",
            "\n",
            "---\n",
            "\n",
            "### Best Destination: Beach Resort\n",
            "\n",
            "**Explanation:**\n",
            "I choose the beach resort as the best destination for a weekend trip. While it can be crowded, the relaxing atmosphere and variety of activities available make it ideal for a quick getaway. The opportunity to unwind by the ocean, engage in water sports, and enjoy the sun outweighs the potential cons of weather and crowds. A beach trip provides a perfect balance of relaxation and fun, making it a rejuvenating experience for a weekend escape.\n"
          ]
        }
      ]
    },
    {
      "cell_type": "markdown",
      "source": [
        "## **3️⃣ Step-by-Step Reasoning \\& Decomposition**\n",
        "\n",
        "**Goal:** Decompose complex problems into steps and guide the AI to reason about each part sequentially."
      ],
      "metadata": {
        "id": "z_tt5nA4RO4I"
      }
    },
    {
      "cell_type": "code",
      "source": [
        "prompt = \"\"\"\n",
        "Q: A bookstore sold 30 books on Monday and 20% more on Tuesday.\n",
        "Calculate how many books were sold on Tuesday and in total.\n",
        "Let's decompose and reason step-by-step.\n",
        "\"\"\"\n",
        "\n",
        "print(ask_gpt(prompt, temperature=0))"
      ],
      "metadata": {
        "colab": {
          "base_uri": "https://localhost:8080/"
        },
        "id": "cx8TjPsaRPwN",
        "outputId": "2491891d-a9de-444f-80fb-8a48415b8461"
      },
      "execution_count": 27,
      "outputs": [
        {
          "output_type": "stream",
          "name": "stdout",
          "text": [
            "To find out how many books were sold on Tuesday and the total number of books sold over both days, we can follow these steps:\n",
            "\n",
            "1. **Calculate the number of books sold on Tuesday:**\n",
            "   - The bookstore sold 30 books on Monday.\n",
            "   - On Tuesday, they sold 20% more than what they sold on Monday.\n",
            "   - To find 20% of the books sold on Monday, we calculate:\n",
            "     \\[\n",
            "     20\\% \\text{ of } 30 = 0.20 \\times 30 = 6\n",
            "     \\]\n",
            "   - Therefore, the number of books sold on Tuesday is:\n",
            "     \\[\n",
            "     \\text{Books sold on Tuesday} = \\text{Books sold on Monday} + 20\\% \\text{ of Books sold on Monday} = 30 + 6 = 36\n",
            "     \\]\n",
            "\n",
            "2. **Calculate the total number of books sold:**\n",
            "   - Now, we add the number of books sold on Monday and Tuesday:\n",
            "     \\[\n",
            "     \\text{Total books sold} = \\text{Books sold on Monday} + \\text{Books sold on Tuesday} = 30 + 36 = 66\n",
            "     \\]\n",
            "\n",
            "In summary:\n",
            "- Books sold on Tuesday: **36**\n",
            "- Total books sold on both days: **66**\n"
          ]
        }
      ]
    },
    {
      "cell_type": "markdown",
      "source": [
        "## **4️⃣ Combining Prompts \\& Managing Context**\n",
        "\n",
        "**Goal:** Use multiple prompts or instructions combined to explore different aspects of a problem in one session."
      ],
      "metadata": {
        "id": "k_G-xkGGRSRW"
      }
    },
    {
      "cell_type": "code",
      "source": [
        "prompt = \"\"\"\n",
        "You are a financial advisor.\n",
        "\n",
        "Part 1: Summarize the benefits of investing in renewable energy funds.\n",
        "Part 2: List 3 risks associated with these investments.\n",
        "Part 3: Provide advice on how to mitigate these risks.\n",
        "\n",
        "Answer each part clearly.\n",
        "\"\"\"\n",
        "\n",
        "print(ask_gpt(prompt, temperature=0.7))"
      ],
      "metadata": {
        "colab": {
          "base_uri": "https://localhost:8080/"
        },
        "id": "zbFdASwMRUeP",
        "outputId": "41047de4-71db-439a-da53-f96d78e19e8c"
      },
      "execution_count": 28,
      "outputs": [
        {
          "output_type": "stream",
          "name": "stdout",
          "text": [
            "### Part 1: Benefits of Investing in Renewable Energy Funds\n",
            "\n",
            "1. **Sustainability and Environmental Impact**: Investing in renewable energy funds supports the transition to a sustainable energy future, reducing greenhouse gas emissions and combating climate change. This aligns with the growing global emphasis on environmental responsibility.\n",
            "\n",
            "2. **Growth Potential**: The renewable energy sector is experiencing rapid growth, driven by technological advancements, regulatory support, and increasing consumer demand for clean energy. This growth can potentially lead to high returns on investment as the market expands.\n",
            "\n",
            "3. **Diversification**: Investing in renewable energy funds allows for diversification within an investment portfolio. These funds typically include a variety of energy sources, such as solar, wind, and hydro, which can reduce overall portfolio risk and provide exposure to a dynamic sector.\n",
            "\n",
            "4. **Government Support and Policy Incentives**: Many governments worldwide are increasingly supporting renewable energy through subsidies, tax incentives, and favorable regulations. This support can enhance the profitability and stability of investments in this sector.\n",
            "\n",
            "5. **Social Responsibility**: Investors can align their portfolios with their values by supporting environmentally friendly initiatives, appealing to those interested in ethical and socially responsible investing.\n",
            "\n",
            "### Part 2: Risks Associated with Renewable Energy Investments\n",
            "\n",
            "1. **Market Volatility**: The renewable energy sector can be subject to significant market fluctuations, influenced by changing regulations, technological advancements, and shifts in consumer demand. This volatility can affect the performance of renewable energy funds.\n",
            "\n",
            "2. **Technological Risks**: Rapid advancements in technology can render existing renewable energy solutions obsolete or less competitive. Companies that fail to innovate may struggle, impacting the performance of funds invested in them.\n",
            "\n",
            "3. **Regulatory Risks**: Changes in government policies, subsidies, and regulations can significantly affect the profitability of renewable energy projects. Uncertainty regarding future regulations can pose risks to investments in this sector.\n",
            "\n",
            "### Part 3: Advice on How to Mitigate These Risks\n",
            "\n",
            "1. **Conduct Thorough Research**: Before investing, research the specific renewable energy funds, including their management, investment strategies, and performance history. Understanding the underlying assets and market dynamics can help investors make informed decisions.\n",
            "\n",
            "2. **Diversify Investments**: To mitigate market volatility, consider diversifying your investments across different renewable energy sources (solar, wind, hydro, etc.) and geographic regions. This can help spread risk and reduce exposure to any single market or technology.\n",
            "\n",
            "3. **Stay Informed on Regulations and Trends**: Regularly monitor industry trends, regulations, and\n"
          ]
        }
      ]
    },
    {
      "cell_type": "markdown",
      "source": [
        "## **5️⃣ Prompt Chaining \\& Multi-Turn Conversations**\n",
        "\n",
        "**Goal:** Maintain context over multiple conversational turns, where each turn builds on previous responses."
      ],
      "metadata": {
        "id": "4ZrSZmSuRXwF"
      }
    },
    {
      "cell_type": "code",
      "source": [
        "# Simulate multi-turn conversation by running prompts sequentially:\n",
        "\n",
        "# Turn 1: Ask for basic explanation\n",
        "turn1 = \"Explain blockchain technology in simple terms.\"\n",
        "\n",
        "response1 = ask_gpt(turn1)\n",
        "print(\"Turn 1 Response:\\n\", response1)\n",
        "\n",
        "# Turn 2: Ask for comparison based on previous answer\n",
        "turn2 = f\"\"\"Based on your previous explanation: \"{response1}\",\n",
        "explain how blockchain differs from traditional databases.\"\"\"\n",
        "\n",
        "response2 = ask_gpt(turn2)\n",
        "print(\"\\nTurn 2 Response:\\n\", response2)\n",
        "\n",
        "# Turn 3: Ask for real-world applications using previous info\n",
        "turn3 = f\"\"\"Given previous responses:\n",
        "1. {response1}\n",
        "2. {response2}\n",
        "List 3 industries that can benefit from blockchain and why.\n",
        "\"\"\"\n",
        "\n",
        "response3 = ask_gpt(turn3)\n",
        "print(\"\\nTurn 3 Response:\\n\", response3)"
      ],
      "metadata": {
        "colab": {
          "base_uri": "https://localhost:8080/"
        },
        "id": "BT3WP1HaRaG4",
        "outputId": "f84fc789-a505-4a87-b65a-390b110ff02c"
      },
      "execution_count": 29,
      "outputs": [
        {
          "output_type": "stream",
          "name": "stdout",
          "text": [
            "Turn 1 Response:\n",
            " Sure! Think of blockchain technology as a digital notebook that everyone can see and write in, but no one can erase anything from it. Here’s how it works in simple terms:\n",
            "\n",
            "1. **Blocks**: Information is stored in groups called \"blocks.\" Each block contains a list of transactions or data.\n",
            "\n",
            "2. **Chain**: These blocks are linked together in a specific order, forming a \"chain.\" Each block has a unique code (called a hash) that connects it to the previous block, making it secure and tamper-proof.\n",
            "\n",
            "3. **Decentralization**: Instead of one person or organization controlling the notebook, it’s shared across many computers (called nodes) around the world. This means no single person can change the information without everyone else noticing.\n",
            "\n",
            "4. **Transparency**: Everyone involved can see the same information, which builds trust. If someone tries to change a block, it would be obvious because it wouldn’t match the copies on other computers.\n",
            "\n",
            "5. **Security**: To add a new block to the chain, computers solve complex math problems. This process, called \"mining,\" ensures that adding new information is difficult, making it hard for anyone to cheat.\n",
            "\n",
            "In summary, blockchain is a secure, transparent way to store and share information without relying on a central authority. It’s often used for cryptocurrencies like Bitcoin, but it can be applied to many other fields as well, such as supply chain management, voting systems, and more.\n",
            "\n",
            "Turn 2 Response:\n",
            " Blockchain technology differs from traditional databases in several key ways. Here’s a breakdown of the main differences:\n",
            "\n",
            "1. **Structure**:\n",
            "   - **Blockchain**: Information is stored in blocks that are linked together in a chronological order, forming a chain. Each block contains a unique hash that connects it to the previous block, which ensures security and integrity.\n",
            "   - **Traditional Databases**: Information is typically stored in tables (rows and columns) and can be easily modified. The structure is more flexible, allowing for easy updates and deletions.\n",
            "\n",
            "2. **Control and Ownership**:\n",
            "   - **Blockchain**: It is decentralized, meaning that no single entity has control over the entire database. Instead, multiple participants (nodes) share the responsibility of maintaining the blockchain. This reduces the risk of single points of failure or manipulation.\n",
            "   - **Traditional Databases**: Generally centralized, where a single organization or administrator has control over the database. They can modify, delete, or manage the data as they see fit.\n",
            "\n",
            "3. **Data Integrity and Security**:\n",
            "   - **Blockchain**: Once data is added to a block, it cannot be altered or deleted without consensus from the network. This immutability feature protects against tampering and fraud.\n",
            "   - **Traditional Databases**: Data can be easily updated or deleted by those with the appropriate permissions, which can lead to potential risks of unauthorized changes or data loss.\n",
            "\n",
            "4. **Transparency**:\n",
            "   - **Blockchain**: Transactions are visible to all participants in the network, which promotes transparency and trust. Anyone can verify the information independently.\n",
            "   - **Traditional Databases**: Access to data is usually limited to authorized users. Transparency is dependent on the policies of the organization that controls the database.\n",
            "\n",
            "5. **Consensus Mechanisms**:\n",
            "   - **Blockchain**: Uses consensus algorithms (like Proof of Work or Proof of Stake) to validate and approve new transactions or blocks. This process ensures that all participants agree on the current state of the blockchain.\n",
            "   - **Traditional Databases**: Changes are typically made by a database administrator or through application-level checks, and there is no need for consensus among multiple parties.\n",
            "\n",
            "6. **Performance and Speed**:\n",
            "   - **Blockchain**: Transactions can be slower due to the need for consensus and the computational work involved in mining (in some types of blockchains). This can lead to increased latency compared to traditional databases.\n",
            "   - **Traditional Databases**: Generally faster and more efficient\n",
            "\n",
            "Turn 3 Response:\n",
            " Here are three industries that can benefit significantly from blockchain technology, along with the reasons why:\n",
            "\n",
            "1. **Supply Chain Management**:\n",
            "   - **Transparency and Traceability**: Blockchain can provide real-time visibility into the supply chain by recording every transaction and movement of goods on an immutable ledger. This helps in tracing the origin of products, ensuring authenticity, and reducing fraud.\n",
            "   - **Improved Efficiency**: Smart contracts on the blockchain can automate processes such as payments and order fulfillment, reducing delays and administrative costs.\n",
            "   - **Enhanced Collaboration**: Multiple stakeholders (manufacturers, suppliers, distributors) can access the same information, fostering trust and collaboration while minimizing disputes.\n",
            "\n",
            "2. **Healthcare**:\n",
            "   - **Secure Patient Data Management**: Blockchain can create a secure and decentralized system for storing patient records, allowing patients to control access to their health data while ensuring that it is protected from tampering.\n",
            "   - **Interoperability**: Different healthcare providers can share and verify patient information seamlessly, improving care coordination and reducing errors.\n",
            "   - **Drug Traceability**: Blockchain can help track pharmaceuticals through the supply chain, ensuring that medications are genuine and have not been tampered with, thereby combating counterfeit drugs.\n",
            "\n",
            "3. **Finance and Banking**:\n",
            "   - **Faster Transactions**: Blockchain can facilitate real-time settlement of transactions, reducing the time and fees associated with traditional banking methods. This is especially beneficial for cross-border payments.\n",
            "   - **Enhanced Security**: The decentralized nature of blockchain reduces the risk of hacks and fraud, as data is not stored in a single location and is cryptographically secured.\n",
            "   - **Access to Financial Services**: Blockchain can provide financial services to unbanked populations by allowing them to participate in the economy through cryptocurrencies and decentralized finance (DeFi) platforms, increasing financial inclusion.\n",
            "\n",
            "These industries can leverage blockchain's unique features to improve efficiency, security, and transparency in their operations, ultimately leading to better outcomes for businesses and consumers alike.\n"
          ]
        }
      ]
    },
    {
      "cell_type": "markdown",
      "source": [
        "# 💡 Tips for Students:\n",
        "\n",
        "- Experiment with your own prompts to see how outputs vary.\n",
        "- Compare responses when adding or removing instructions.\n",
        "- Try chaining more turns in the multi-turn conversation part.\n",
        "- Notice how stepwise reasoning improves clarity and accuracy."
      ],
      "metadata": {
        "id": "Oc0EbdU4Rb8d"
      }
    }
  ],
  "metadata": {
    "colab": {
      "name": "Welcome to Colab",
      "provenance": [],
      "include_colab_link": true
    },
    "kernelspec": {
      "display_name": "Python 3",
      "name": "python3"
    }
  },
  "nbformat": 4,
  "nbformat_minor": 0
}