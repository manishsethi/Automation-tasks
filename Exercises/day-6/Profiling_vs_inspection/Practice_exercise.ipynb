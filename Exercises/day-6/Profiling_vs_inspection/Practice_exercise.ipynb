{
  "cells": [
    {
      "cell_type": "markdown",
      "metadata": {
        "id": "view-in-github",
        "colab_type": "text"
      },
      "source": [
        "<a href=\"https://colab.research.google.com/github/manishsethi/Automation-tasks/blob/main/Exercises/day-6/Profiling_vs_inspection/Practice_exercise.ipynb\" target=\"_parent\"><img src=\"https://colab.research.google.com/assets/colab-badge.svg\" alt=\"Open In Colab\"/></a>"
      ]
    },
    {
      "cell_type": "markdown",
      "source": [
        "### More Exercises with additional Data set\n",
        "- Uber Pickups Dataset (https://raw.githubusercontent.com/fivethirtyeight/uber-tlc-foil-response/master/uber-trip-data/uber-raw-data-apr14.csv)\n",
        "- Breast Cancer Wisconsin (Diagnostic) Dataset\n",
        "https://raw.githubusercontent.com/selva86/datasets/master/BreastCancer.csv\n",
        "- Credit Card Fraud Detection Dataset\n",
        "https://raw.githubusercontent.com/datasets/credit-card-fraud-detection/master/data/creditcard.csv\n",
        "- Global CO2 Emissions by Country\n",
        "https://raw.githubusercontent.com/owid/co2-data/master/owid-co2-data.csv\n",
        "\n"
      ],
      "metadata": {
        "id": "W4J5zNWUMcF8"
      }
    }
  ],
  "metadata": {
    "colab": {
      "provenance": [],
      "include_colab_link": true
    },
    "kernelspec": {
      "display_name": "Python 3",
      "name": "python3"
    }
  },
  "nbformat": 4,
  "nbformat_minor": 0
}