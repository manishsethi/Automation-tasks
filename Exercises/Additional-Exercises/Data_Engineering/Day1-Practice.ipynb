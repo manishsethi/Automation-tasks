{
  "cells": [
    {
      "cell_type": "markdown",
      "metadata": {
        "id": "view-in-github",
        "colab_type": "text"
      },
      "source": [
        "<a href=\"https://colab.research.google.com/github/manishsethi/Automation-tasks/blob/main/Exercises/Additional-Exercises/Data_Engineering/Day1-Practice.ipynb\" target=\"_parent\"><img src=\"https://colab.research.google.com/assets/colab-badge.svg\" alt=\"Open In Colab\"/></a>"
      ]
    },
    {
      "cell_type": "markdown",
      "source": [
        "## Additional Lab Exercises: Practical Ingestion from Multiple Sources\n",
        "\n",
        "Below are Few exercises, each with direct links to CSV files, JSON datasets, and REST API endpoints. Students can copy-paste these links into Colab and start coding immediately.\n",
        "\n",
        "---\n",
        "\n",
        "### Exercise 1: Social Media & User Data Analytics\n",
        "\n",
        "**CSV (Titanic Passenger Demographics):**  \n",
        "https://raw.githubusercontent.com/datasciencedojo/datasets/master/titanic.csv\n",
        "\n",
        "**JSON (Placeholder Users & Posts):**  \n",
        "- https://jsonplaceholder.typicode.com/users  \n",
        "- https://jsonplaceholder.typicode.com/posts\n",
        "\n",
        "**REST API (Cat Facts):**  \n",
        "https://cat-fact.herokuapp.com/facts\n",
        "\n",
        "---\n",
        "\n",
        "### Exercise 2: Financial Market Data Aggregation\n",
        "\n",
        "**CSV (S&P 500 Constituents):**  \n",
        "https://raw.githubusercontent.com/datasets/s-and-p-500-companies/master/data/constituents.csv\n",
        "\n",
        "**JSON (Sample Numeric/Categorical Data):**  \n",
        "https://raw.githubusercontent.com/holtzy/data_to_viz/master/Example_dataset/7_OneCatOneNum.json\n",
        "\n",
        "**REST API (Bitcoin Price Index):**  \n",
        "https://api.coindesk.com/v1/bpi/currentprice.json\n",
        "\n",
        "---\n",
        "\n",
        "### Exercise 3: Entertainment & Media Content Analysis\n",
        "\n",
        "**CSV (IMDB Movie Metadata):**  \n",
        "https://raw.githubusercontent.com/datasets/imdb-5000-movie-dataset/master/data/movie_metadata.csv\n",
        "\n",
        "**JSON (Movies Dataset for Vega):**  \n",
        "https://raw.githubusercontent.com/vega/vega/master/docs/data/movies.json\n",
        "\n",
        "**REST API (PokéAPI):**  \n",
        "- https://pokeapi.co/api/v2/pokemon/1  \n",
        "- https://pokeapi.co/api/v2/pokemon?limit=20\n",
        "\n",
        "---\n",
        "\n",
        "## Additional Lab Exercises: Cleaning & Feature Engineering Pipelines\n",
        "\n",
        "Below are Few exercises with direct CSV links. For each, build modular `clean_data()` and `engineer_features()` functions in Colab.\n",
        "\n",
        "---\n",
        "### Exercise A: Bike Sharing Demand\n",
        "\n",
        "**Dataset (Capital Bikeshare Daily):**  \n",
        "https://raw.githubusercontent.com/plotly/datasets/master/day.csv\n",
        "\n",
        "**Tasks**  \n",
        "1. Parse `dteday` as datetime and set as index.  \n",
        "2. Interpolate missing `temp` or `hum`.  \n",
        "3. Create time features: `year`, `month`, `day`, `weekday`, `is_weekend`.  \n",
        "4. Map `weathersit` codes to labels and one-hot encode.  \n",
        "5. Scale `temp`, `hum`, `windspeed` to 0–1 range.  \n",
        "6. Build modular cleaning and feature functions.\n",
        "\n",
        "---\n",
        "\n",
        "### Exercise B: Online Retail Preprocessing\n",
        "\n",
        "**Dataset (UData Online Retail):**  \n",
        "https://raw.githubusercontent.com/selva86/datasets/master/online_retail.csv\n",
        "\n",
        "**Tasks**  \n",
        "1. Parse `InvoiceDate` to datetime; extract `hour`, `dayofweek`.  \n",
        "2. Remove negative/zero `Quantity` and `UnitPrice`.  \n",
        "3. Flag missing `CustomerID` with `is_guest`.  \n",
        "4. Aggregate to invoice level:  \n",
        "   - `total_amount = Quantity * UnitPrice`  \n",
        "   - `distinct_items = nunique(StockCode)`  \n",
        "5. Create RFM per customer: Recency, Frequency, Monetary.  \n",
        "6. Encapsulate in `clean_data()` and `engineer_features()`.\n",
        "\n",
        "---"
      ],
      "metadata": {
        "id": "RpsOG3v9XMxn"
      }
    }
  ],
  "metadata": {
    "colab": {
      "name": "Welcome to Colab",
      "provenance": [],
      "include_colab_link": true
    },
    "kernelspec": {
      "display_name": "Python 3",
      "name": "python3"
    }
  },
  "nbformat": 4,
  "nbformat_minor": 0
}